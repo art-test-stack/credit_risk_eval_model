{
 "cells": [
  {
   "cell_type": "code",
   "execution_count": null,
   "metadata": {},
   "outputs": [],
   "source": [
    "import pandas as pd\n",
    "pd.set_option('display.max_columns', None)"
   ]
  },
  {
   "cell_type": "code",
   "execution_count": null,
   "metadata": {},
   "outputs": [],
   "source": [
    "accepted = pd.read_csv(\"data/accepted_2007_to_2018Q4.csv\")\n",
    "# pd.set_option('display.max_columns', None)"
   ]
  },
  {
   "cell_type": "code",
   "execution_count": null,
   "metadata": {},
   "outputs": [],
   "source": [
    "# TODO: change method to len of words (not len of char)\n",
    "accepted[\"desc_len\"] = accepted.dropna(subset=\"desc\")[\"desc\"].apply(lambda x: len(str(x).split()))"
   ]
  },
  {
   "cell_type": "code",
   "execution_count": null,
   "metadata": {},
   "outputs": [],
   "source": [
    "date_columns = [\"issue_d\", \"hardship_start_date\", \"hardship_end_date\", \"payment_plan_start_date\", \"debt_settlement_flag_date\", \"settlement_date\"]"
   ]
  },
  {
   "cell_type": "code",
   "execution_count": null,
   "metadata": {},
   "outputs": [],
   "source": [
    "date_columns = [\"issue_d\", \"hardship_start_date\", \"hardship_end_date\", \"payment_plan_start_date\", \"debt_settlement_flag_date\", \"settlement_date\", \"earliest_cr_line\"]\n",
    "for c in date_columns: \n",
    "    res = list(map(lambda x: str(x).split(\"-\"), accepted[c].values.tolist()))\n",
    "    not_nan_dates = [ date for date in res if 'nan' not in date ]\n",
    "    args = [ idx for idx, [_, y] in enumerate(not_nan_dates) if int(y) <= 2014 ]\n",
    "    print(f\"{c}: {len(args)}\")"
   ]
  },
  {
   "cell_type": "code",
   "execution_count": null,
   "metadata": {},
   "outputs": [],
   "source": [
    "c = \"issue_d\"\n",
    "res = list(map(lambda x: str(x).split(\"-\"), accepted[c].values.tolist()))\n",
    "not_nan_dates = [ date for date in res if 'nan' not in date ]\n",
    "args = [ idx for idx, [_, y] in enumerate(not_nan_dates) if int(y) <= 2014 and int(y) >= 2007]\n",
    "print(f\"{c}: {len(args)}\")"
   ]
  },
  {
   "cell_type": "code",
   "execution_count": null,
   "metadata": {},
   "outputs": [],
   "source": [
    "data_2007_2014 = accepted.iloc[args]"
   ]
  },
  {
   "cell_type": "code",
   "execution_count": null,
   "metadata": {},
   "outputs": [],
   "source": [
    "data_2007_2014_len_20 = data_2007_2014[data_2007_2014[\"desc_len\"] > 20]"
   ]
  },
  {
   "cell_type": "code",
   "execution_count": null,
   "metadata": {},
   "outputs": [],
   "source": [
    "from src.data.features import features"
   ]
  },
  {
   "cell_type": "code",
   "execution_count": null,
   "metadata": {},
   "outputs": [],
   "source": [
    "data_ = data_2007_2014_len_20[features.keys()].dropna()"
   ]
  },
  {
   "cell_type": "code",
   "execution_count": null,
   "metadata": {},
   "outputs": [],
   "source": [
    "data_"
   ]
  },
  {
   "cell_type": "code",
   "execution_count": null,
   "metadata": {},
   "outputs": [],
   "source": [
    "data_[\"purpose\"].unique()"
   ]
  },
  {
   "cell_type": "code",
   "execution_count": null,
   "metadata": {},
   "outputs": [],
   "source": [
    "features.pop(\"total_il_high_credit_limit\")\n",
    "features.pop(\"revol_util\")\n",
    "features"
   ]
  },
  {
   "cell_type": "code",
   "execution_count": null,
   "metadata": {},
   "outputs": [],
   "source": [
    "data_ = data_2007_2014_len_20[features.keys()].dropna()\n",
    "data_"
   ]
  },
  {
   "cell_type": "code",
   "execution_count": null,
   "metadata": {},
   "outputs": [],
   "source": [
    "data_[\"loan_status\"].unique()"
   ]
  },
  {
   "cell_type": "code",
   "execution_count": null,
   "metadata": {},
   "outputs": [],
   "source": [
    "data_[\"target\"] = data_[\"loan_status\"].apply(lambda x: \"Fully Paid\" in x)"
   ]
  },
  {
   "cell_type": "code",
   "execution_count": null,
   "metadata": {},
   "outputs": [],
   "source": [
    "data_[data_[\"target\"]][\"desc_len\"].describe(), data_[data_[\"target\"]==False][\"desc_len\"].describe(), data_[\"desc_len\"].describe()"
   ]
  },
  {
   "cell_type": "code",
   "execution_count": null,
   "metadata": {},
   "outputs": [],
   "source": []
  },
  {
   "cell_type": "code",
   "execution_count": null,
   "metadata": {},
   "outputs": [],
   "source": [
    "# date_columns = [\"hardship_start_date\", \"hardship_end_date\", \"payment_plan_start_date\", \"debt_settlement_flag_date\", \"settlement_date\", \"earliest_cr_line\"]\n",
    "# for c in date_columns: \n",
    "#     res = list(map(lambda x: str(x).split(\"-\"), accepted[c].values.tolist()))\n",
    "#     not_nan_dates = [ date for date in res if 'nan' not in date ]\n",
    "#     years = [ int(y) for _, y in not_nan_dates ]\n",
    "#     print(f\"{c}: {sum(years) / len(years)}\")"
   ]
  },
  {
   "cell_type": "code",
   "execution_count": null,
   "metadata": {},
   "outputs": [],
   "source": [
    "from src.data.preprocess import preprocess_data\n",
    "\n",
    "preprocess_data()"
   ]
  },
  {
   "cell_type": "code",
   "execution_count": null,
   "metadata": {},
   "outputs": [],
   "source": [
    "from huggingface_hub import notebook_login\n",
    "notebook_login()"
   ]
  },
  {
   "cell_type": "code",
   "execution_count": null,
   "metadata": {},
   "outputs": [],
   "source": [
    "import stanza\n",
    "\n",
    "stanza.download('en') # download English model\n",
    "nlp = stanza.Pipeline('en') # initialize English neural pipeline\n",
    "doc = nlp(\"Barack Obama was born in Hawaii.\")"
   ]
  },
  {
   "cell_type": "code",
   "execution_count": null,
   "metadata": {},
   "outputs": [],
   "source": [
    "doc"
   ]
  },
  {
   "cell_type": "code",
   "execution_count": null,
   "metadata": {},
   "outputs": [],
   "source": []
  }
 ],
 "metadata": {
  "kernelspec": {
   "display_name": "nlenv",
   "language": "python",
   "name": "python3"
  },
  "language_info": {
   "codemirror_mode": {
    "name": "ipython",
    "version": 3
   },
   "file_extension": ".py",
   "mimetype": "text/x-python",
   "name": "python",
   "nbconvert_exporter": "python",
   "pygments_lexer": "ipython3",
   "version": "3.10.11"
  }
 },
 "nbformat": 4,
 "nbformat_minor": 2
}
