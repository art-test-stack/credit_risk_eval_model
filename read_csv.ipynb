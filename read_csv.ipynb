{
 "cells": [
  {
   "cell_type": "code",
   "execution_count": null,
   "metadata": {},
   "outputs": [],
   "source": [
    "import pandas as pd\n",
    "pd.set_option('display.max_columns', None)\n",
    "\n",
    "from src.data.features import select_features, features, DataType\n",
    "\n",
    "file_path = \"data/accepted_2007_to_2018Q4.csv\"\n",
    "\n",
    "df = pd.read_csv(file_path)\n",
    "df = select_features(df)\n",
    "\n",
    "num_features = [ ft for ft, type in features.items() if type in [DataType.NUMERICAL, DataType.NUMERICAL_LOG] ]\n",
    "cat_features = [ ft for ft, type in features.items() if type in [DataType.CATEGORICAL] and not ft == \"loan_status\"]\n",
    "\n",
    "# df = df.drop(columns=cat_features)"
   ]
  },
  {
   "cell_type": "code",
   "execution_count": 13,
   "metadata": {},
   "outputs": [],
   "source": [
    "df_num_paidoff = df[df[\"loan_status\"].apply(lambda x: 1 == x)][num_features]\n",
    "df_num_default = df[df[\"loan_status\"].apply(lambda x: 0 == x)][num_features]\n",
    "\n",
    "df[\"loan_status\"].apply(lambda x: 1 - x)"
   ]
  },
  {
   "cell_type": "markdown",
   "metadata": {},
   "source": [
    "### Summary of the length of loan description."
   ]
  },
  {
   "cell_type": "code",
   "execution_count": null,
   "metadata": {},
   "outputs": [],
   "source": [
    "df_num_default[\"desc_len\"].describe() \n"
   ]
  },
  {
   "cell_type": "code",
   "execution_count": null,
   "metadata": {},
   "outputs": [],
   "source": [
    "df_num_paidoff[\"desc_len\"].describe() "
   ]
  },
  {
   "cell_type": "code",
   "execution_count": null,
   "metadata": {},
   "outputs": [],
   "source": [
    "df[\"desc_len\"].describe()"
   ]
  },
  {
   "cell_type": "markdown",
   "metadata": {},
   "source": [
    "### Pbc table for continuous variables"
   ]
  },
  {
   "cell_type": "code",
   "execution_count": 15,
   "metadata": {},
   "outputs": [],
   "source": [
    "from scipy import stats\n",
    "\n",
    "pbc = df[num_features].corrwith(df[\"loan_status\"].astype(\"float\"), method=stats.pointbiserialr)\n",
    "pbc.T"
   ]
  },
  {
   "cell_type": "markdown",
   "metadata": {},
   "source": [
    "### Cross table on Continuous variables for variables in default state"
   ]
  },
  {
   "cell_type": "code",
   "execution_count": null,
   "metadata": {},
   "outputs": [],
   "source": [
    "df_num_default.describe().loc[['mean', \"50%\", 'std']].T"
   ]
  },
  {
   "cell_type": "markdown",
   "metadata": {},
   "source": [
    "### Cross table on Continuous variables for variables in Paid-off state"
   ]
  },
  {
   "cell_type": "code",
   "execution_count": null,
   "metadata": {},
   "outputs": [],
   "source": [
    "df_num_paidoff.describe().loc[['mean', \"50%\", 'std']].T"
   ]
  },
  {
   "cell_type": "code",
   "execution_count": null,
   "metadata": {},
   "outputs": [],
   "source": [
    "df[\"loan_status\"].value_counts(df[\"loan_status\"].unique)"
   ]
  },
  {
   "cell_type": "code",
   "execution_count": null,
   "metadata": {},
   "outputs": [],
   "source": []
  }
 ],
 "metadata": {
  "kernelspec": {
   "display_name": "nlenv",
   "language": "python",
   "name": "python3"
  },
  "language_info": {
   "codemirror_mode": {
    "name": "ipython",
    "version": 3
   },
   "file_extension": ".py",
   "mimetype": "text/x-python",
   "name": "python",
   "nbconvert_exporter": "python",
   "pygments_lexer": "ipython3",
   "version": "3.10.11"
  }
 },
 "nbformat": 4,
 "nbformat_minor": 2
}
