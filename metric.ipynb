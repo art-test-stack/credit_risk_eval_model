{
 "cells": [
  {
   "cell_type": "code",
   "execution_count": 1,
   "metadata": {},
   "outputs": [],
   "source": [
    "import torch\n",
    "from torcheval.metrics import AUC"
   ]
  },
  {
   "cell_type": "code",
   "execution_count": null,
   "metadata": {},
   "outputs": [],
   "source": [
    "metric = AUC()\n",
    "metric.update(torch.tensor([0,.2,.3,.1]), torch.tensor([1,1,1,1]))\n",
    "metric.compute()\n",
    "\n",
    "\n",
    "metric.reset()\n",
    "metric.update(torch.tensor([0,.1,.13,.2]), torch.tensor([1,1,2,4]))\n",
    "metric.update(torch.tensor([1.,2.,.1, 3.]), torch.tensor([1,2,3,2]))\n",
    "metric.compute()\n",
    "\n",
    "\n",
    "metric = AUC(n_tasks=2) # n_tasks should be equal to first dimension of x, y in update()\n",
    "x = torch.tensor([[0.3941, 0.2980, 0.3080],\n",
    "                      [0.1448, 0.6090, 0.2462]])\n",
    "y = torch.tensor([[1, 0, 4],\n",
    "                      [0, 4, 2]])\n",
    "metric.update(x, y)\n",
    "\n",
    "x1 = torch.tensor([[0.4562, 0.1200, 0.4238],\n",
    "                       [0.4076, 0.4448, 0.1476]])\n",
    "y1 = torch.tensor([[3, 4, 3],\n",
    "                       [2, 0, 4]])\n",
    "metric.update(x1, y1)\n",
    "res = metric.compute()\n",
    "res.backward()"
   ]
  },
  {
   "cell_type": "markdown",
   "metadata": {},
   "source": [
    "NOTE: [Getting RuntimeError: element 0 of tensors does not require grad and does not have a grad_fn](https://discuss.pytorch.org/t/getting-runtimeerror-element-0-of-tensors-does-not-require-grad-and-does-not-have-a-grad-fn/158642)"
   ]
  },
  {
   "cell_type": "code",
   "execution_count": null,
   "metadata": {},
   "outputs": [],
   "source": []
  }
 ],
 "metadata": {
  "kernelspec": {
   "display_name": "nlenv",
   "language": "python",
   "name": "python3"
  },
  "language_info": {
   "codemirror_mode": {
    "name": "ipython",
    "version": 3
   },
   "file_extension": ".py",
   "mimetype": "text/x-python",
   "name": "python",
   "nbconvert_exporter": "python",
   "pygments_lexer": "ipython3",
   "version": "3.10.11"
  }
 },
 "nbformat": 4,
 "nbformat_minor": 2
}
