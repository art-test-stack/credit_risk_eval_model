{
 "cells": [
  {
   "cell_type": "code",
   "execution_count": 40,
   "metadata": {},
   "outputs": [],
   "source": [
    "import pandas as pd\n",
    "pd.set_option('display.max_columns', None)"
   ]
  },
  {
   "cell_type": "code",
   "execution_count": 41,
   "metadata": {},
   "outputs": [],
   "source": [
    "file_path = \"data/accepted_2007_to_2018Q4.csv\""
   ]
  },
  {
   "cell_type": "code",
   "execution_count": null,
   "metadata": {},
   "outputs": [],
   "source": [
    "from src.data.features import select_features, features, DataType\n",
    "\n",
    "\n",
    "df = pd.read_csv(file_path)\n",
    "df = select_features(df)\n",
    "desc = df[\"desc\"]"
   ]
  },
  {
   "cell_type": "markdown",
   "metadata": {},
   "source": [
    "# Segmentation"
   ]
  },
  {
   "cell_type": "code",
   "execution_count": null,
   "metadata": {},
   "outputs": [],
   "source": [
    "import stanza\n",
    "\n",
    "# May use the package for finance :\n",
    "# https://stanfordnlp.github.io/stanza/client_properties.html#:~:text=FINANCE_PROPS%20%3D%20%7B%0A%20%20%20%20%22depparse.model%22%3A%20%22/path/to/finance%2Dparser.gz%22%2C%0A%20%20%20%20%22ner.model%22%3A%20%22/path/to/finance%2Dner.ser.gz%22%0A%7D%0A%0Awith%20CoreNLPClient()%20as%20client%3A%0A%20%20%20%20bio_ann%20%3D%20client.annotate(bio_text%2C%20properties%3DBIOMEDICAL_PROPS)%0A%20%20%20%20finance_ann%20%3D%20client.annotate(finance_text%2C%20properties%3DFINANCE_PROPS)\n",
    "# from stanza.server import CoreNLPClient\n",
    "# FINANCE_PROPS = {\n",
    "#     \"depparse.model\": \"/path/to/finance-parser.gz\",\n",
    "#     \"ner.model\": \"/path/to/finance-ner.ser.gz\"\n",
    "# }\n",
    "\n",
    "# with CoreNLPClient() as client:\n",
    "#     finance_ann = client.annotate(finance_text, properties=FINANCE_PROPS)\n",
    "\n",
    "stanza.download('en') # download English model\n",
    "nlp = stanza.Pipeline('en') # initialize English neural pipeline\n",
    "doc = nlp(\"Barack Obama was born in Hawaii.\")"
   ]
  },
  {
   "cell_type": "markdown",
   "metadata": {},
   "source": [
    "## Example from doc"
   ]
  },
  {
   "cell_type": "code",
   "execution_count": null,
   "metadata": {},
   "outputs": [],
   "source": [
    "doc, doc.entities"
   ]
  },
  {
   "cell_type": "markdown",
   "metadata": {},
   "source": [
    "## Example from dataset"
   ]
  },
  {
   "cell_type": "code",
   "execution_count": null,
   "metadata": {},
   "outputs": [],
   "source": [
    "desc_nlp = nlp(desc.iloc[1])\n",
    "desc_nlp"
   ]
  },
  {
   "cell_type": "code",
   "execution_count": null,
   "metadata": {},
   "outputs": [],
   "source": [
    "desc_nlp.entities"
   ]
  },
  {
   "cell_type": "code",
   "execution_count": null,
   "metadata": {},
   "outputs": [],
   "source": [
    "desc_nlp.__dict__.keys()"
   ]
  },
  {
   "cell_type": "code",
   "execution_count": 48,
   "metadata": {},
   "outputs": [],
   "source": [
    "desc_nlp._lang"
   ]
  },
  {
   "cell_type": "markdown",
   "metadata": {},
   "source": [
    "# Word embedding"
   ]
  },
  {
   "cell_type": "code",
   "execution_count": 49,
   "metadata": {},
   "outputs": [],
   "source": [
    "import spacy"
   ]
  },
  {
   "cell_type": "code",
   "execution_count": 50,
   "metadata": {},
   "outputs": [],
   "source": [
    "# en_core_web_lg package provides 300-dimensional GloVe vectors for 685k terms of English.\n",
    "# https://github.com/explosion/spaCy/blob/2f1e7ed09aae2dcb86a2f36c2df93ad6b4cb3d38/website/docs/usage/linguistic-features.mdx#L1875:~:text=For%20instance%2C%20the%20en_core_web_lg%20package%20provides%20300%2Ddimensional%20GloVe%20vectors%20for%20685k%20terms%20of%20English.\n",
    "\n",
    "glove_nlp = spacy.load(\"en_core_web_lg\")"
   ]
  },
  {
   "cell_type": "code",
   "execution_count": null,
   "metadata": {},
   "outputs": [],
   "source": [
    "glove_nlp.__dict__"
   ]
  },
  {
   "cell_type": "code",
   "execution_count": null,
   "metadata": {},
   "outputs": [],
   "source": [
    "\n",
    "# Process whole documents\n",
    "text = (\"When Sebastian Thrun started working on self-driving cars at \"\n",
    "        \"Google in 2007, few people outside of the company took him \"\n",
    "        \"seriously. “I can tell you very senior CEOs of major American \"\n",
    "        \"car companies would shake my hand and turn away because I wasn’t \"\n",
    "        \"worth talking to,” said Thrun, in an interview with Recode earlier \"\n",
    "        \"this week.\")\n",
    "doc = glove_nlp(text)\n",
    "\n",
    "# Analyze syntax\n",
    "print(\"Noun phrases:\", [chunk.text for chunk in doc.noun_chunks])\n",
    "print(\"Verbs:\", [token.lemma_ for token in doc if token.pos_ == \"VERB\"])\n",
    "\n",
    "# Find named entities, phrases and concepts\n",
    "for entity in doc.ents:\n",
    "    print(entity.text, entity.label_)"
   ]
  },
  {
   "cell_type": "code",
   "execution_count": null,
   "metadata": {},
   "outputs": [],
   "source": [
    "id = 20\n",
    "doc[id], doc[id].vector"
   ]
  },
  {
   "cell_type": "code",
   "execution_count": null,
   "metadata": {},
   "outputs": [],
   "source": [
    "glove_nlp.__\n",
    "(glove_nlp.vocab.get_vector(\"Thrun\"))"
   ]
  },
  {
   "cell_type": "code",
   "execution_count": null,
   "metadata": {},
   "outputs": [],
   "source": []
  }
 ],
 "metadata": {
  "kernelspec": {
   "display_name": "nlenv",
   "language": "python",
   "name": "python3"
  },
  "language_info": {
   "codemirror_mode": {
    "name": "ipython",
    "version": 3
   },
   "file_extension": ".py",
   "mimetype": "text/x-python",
   "name": "python",
   "nbconvert_exporter": "python",
   "pygments_lexer": "ipython3",
   "version": "3.10.11"
  }
 },
 "nbformat": 4,
 "nbformat_minor": 2
}
