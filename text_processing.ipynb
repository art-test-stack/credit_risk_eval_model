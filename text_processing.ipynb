{
 "cells": [
  {
   "cell_type": "code",
   "execution_count": 1,
   "metadata": {},
   "outputs": [],
   "source": [
    "import pandas as pd\n",
    "pd.set_option('display.max_columns', None)"
   ]
  },
  {
   "cell_type": "code",
   "execution_count": 2,
   "metadata": {},
   "outputs": [],
   "source": [
    "file_path = \"data/accepted_2007_to_2018Q4.csv\""
   ]
  },
  {
   "cell_type": "code",
   "execution_count": null,
   "metadata": {},
   "outputs": [],
   "source": [
    "from src.data.features import select_features, features, DataType\n",
    "\n",
    "\n",
    "df = pd.read_csv(file_path)\n",
    "df = select_features(df)\n",
    "desc = df[\"desc\"]"
   ]
  },
  {
   "cell_type": "code",
   "execution_count": null,
   "metadata": {},
   "outputs": [],
   "source": [
    "from src.data.stanfordnlp import StanfordNLP\n",
    "\n",
    "nlp = StanfordNLP()\n",
    "nlp.tokenize(\"Stanford University is located in California. It is a great place to study.\")"
   ]
  },
  {
   "cell_type": "code",
   "execution_count": null,
   "metadata": {},
   "outputs": [],
   "source": [
    "embs = nlp.process_batch(desc, parralize=False)"
   ]
  },
  {
   "cell_type": "code",
   "execution_count": 1,
   "metadata": {},
   "outputs": [],
   "source": [
    "features_post_preprocessing = [\n",
    "    'loan_status', 'log_loan_amnt', 'int_rate', 'fico', 'inq_last_6mths',\n",
    "    'revol_util', 'delinq_2yrs', 'pub_rec', 'open_acc', 'revol_inc_rat',\n",
    "    'total_acc', 'credit_age', 'log_annual_inc', 'emp_length', 'dti',\n",
    "    'desc', 'desc_len', 'term_ 36 months', 'term_ 60 months', 'purpose_car',\n",
    "    'purpose_credit_card', 'purpose_debt_consolidation',\n",
    "    'purpose_educational', 'purpose_home_improvement', 'purpose_house',\n",
    "    'purpose_major_purchase', 'purpose_medical', 'purpose_moving',\n",
    "    'purpose_other', 'purpose_renewable_energy', 'purpose_small_business',\n",
    "    'purpose_vacation', 'purpose_wedding', 'grade_A', 'grade_B', 'grade_C',\n",
    "    'grade_D', 'grade_E', 'grade_F', 'grade_G', 'home_ownership_MORTGAGE',\n",
    "    'home_ownership_NONE', 'home_ownership_OTHER', 'home_ownership_OWN',\n",
    "    'home_ownership_RENT', 'verification_status_Not Verified',\n",
    "    'verification_status_Source Verified', 'verification_status_Verified'\n",
    "]"
   ]
  },
  {
   "cell_type": "code",
   "execution_count": null,
   "metadata": {},
   "outputs": [],
   "source": [
    "\"desc\" in features_post_preprocessing\n"
   ]
  },
  {
   "cell_type": "code",
   "execution_count": null,
   "metadata": {},
   "outputs": [],
   "source": [
    "len(features_post_preprocessing)"
   ]
  },
  {
   "cell_type": "code",
   "execution_count": null,
   "metadata": {},
   "outputs": [],
   "source": []
  }
 ],
 "metadata": {
  "kernelspec": {
   "display_name": "nlenv",
   "language": "python",
   "name": "python3"
  },
  "language_info": {
   "codemirror_mode": {
    "name": "ipython",
    "version": 3
   },
   "file_extension": ".py",
   "mimetype": "text/x-python",
   "name": "python",
   "nbconvert_exporter": "python",
   "pygments_lexer": "ipython3",
   "version": "3.10.11"
  }
 },
 "nbformat": 4,
 "nbformat_minor": 2
}
